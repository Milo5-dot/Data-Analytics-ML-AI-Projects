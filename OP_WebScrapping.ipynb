{
 "cells": [
  {
   "cell_type": "code",
   "execution_count": 4,
   "metadata": {},
   "outputs": [],
   "source": [
    "from bs4 import BeautifulSoup\n",
    "import requests\n",
    "import pprint\n",
    "import re\n",
    "import pyperclip\n",
    "from openpyxl import Workbook\n",
    "import urllib.request\n",
    "\n",
    "book = Workbook()\n",
    "sheet = book.active\n",
    "\n",
    "name = []\n",
    "run_time = []\n",
    "\n",
    "urls = []\n",
    "soup = BeautifulSoup(urllib.request.urlopen('https://www.imdb.com/movies-in-theaters/').read(),'lxml')"
   ]
  },
  {
   "cell_type": "code",
   "execution_count": 5,
   "metadata": {},
   "outputs": [],
   "source": [
    "links = soup.findAll('h4')"
   ]
  },
  {
   "cell_type": "code",
   "execution_count": 6,
   "metadata": {},
   "outputs": [],
   "source": [
    "for item in links:\n",
    "    name.append(item.text.strip())"
   ]
  },
  {
   "cell_type": "code",
   "execution_count": 7,
   "metadata": {},
   "outputs": [],
   "source": [
    "time = soup.findAll('time')"
   ]
  },
  {
   "cell_type": "code",
   "execution_count": 8,
   "metadata": {},
   "outputs": [],
   "source": [
    "for t in time:\n",
    "    run_time.append(t.text.strip())"
   ]
  },
  {
   "cell_type": "code",
   "execution_count": 9,
   "metadata": {},
   "outputs": [
    {
     "data": {
      "text/plain": [
       "['95 min', '109 min', '84 min', '109 min']"
      ]
     },
     "execution_count": 9,
     "metadata": {},
     "output_type": "execute_result"
    }
   ],
   "source": [
    "run_time"
   ]
  },
  {
   "cell_type": "code",
   "execution_count": 10,
   "metadata": {},
   "outputs": [],
   "source": [
    "i = ['A'+str(x) for x in range(1,21)]\n",
    "k= ['B'+str(x) for x in range(1,21)]\n",
    "\n",
    "l=1\n",
    "j=1\n",
    "for n in name:\n",
    "    sheet[i[l]]= n\n",
    "    l=l+1\n",
    "    book.save(\"sweety.xlsx\")\n",
    "    \n",
    "for ti in run_time:\n",
    "    sheet[k[j]] = ti\n",
    "    j=j+1\n",
    "    book.save(\"sweety.xlsx\")"
   ]
  },
  {
   "cell_type": "code",
   "execution_count": 11,
   "metadata": {},
   "outputs": [],
   "source": [
    "genre = soup.find('p',class_='cert-runtime-genre')"
   ]
  },
  {
   "cell_type": "code",
   "execution_count": 12,
   "metadata": {},
   "outputs": [
    {
     "data": {
      "text/plain": [
       "[<span>Documentary</span>]"
      ]
     },
     "execution_count": 12,
     "metadata": {},
     "output_type": "execute_result"
    }
   ],
   "source": [
    "genre.findAll('span')"
   ]
  },
  {
   "cell_type": "code",
   "execution_count": null,
   "metadata": {},
   "outputs": [],
   "source": []
  }
 ],
 "metadata": {
  "kernelspec": {
   "display_name": "Python 3",
   "language": "python",
   "name": "python3"
  },
  "language_info": {
   "codemirror_mode": {
    "name": "ipython",
    "version": 3
   },
   "file_extension": ".py",
   "mimetype": "text/x-python",
   "name": "python",
   "nbconvert_exporter": "python",
   "pygments_lexer": "ipython3",
   "version": "3.7.0"
  }
 },
 "nbformat": 4,
 "nbformat_minor": 2
}
